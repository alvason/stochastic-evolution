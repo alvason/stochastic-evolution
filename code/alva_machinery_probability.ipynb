{
 "metadata": {
  "name": "",
  "signature": "sha256:c9b5f6684b53b660ba4a92fe112b06595931e4d31248ad2df115e38a126764ac"
 },
 "nbformat": 3,
 "nbformat_minor": 0,
 "worksheets": [
  {
   "cells": [
    {
     "cell_type": "markdown",
     "metadata": {},
     "source": [
      "# Probability-insighter\n",
      "https://github.com/alvason/probability-insighter\n",
      "\n",
      "### home-made machinery for insight into randomness"
     ]
    },
    {
     "cell_type": "code",
     "collapsed": false,
     "input": [
      "'''\n",
      "author: Alvason Zhenhua Li\n",
      "date:   04/16/2015\n",
      "\n",
      "Home-made machinery for sorting a list from min-max\n",
      "'''\n",
      "import numpy as np\n",
      "\n",
      "# min-max sorting\n",
      "def AlvaMinMax(data):\n",
      "    totalDataPoint = np.size(data)\n",
      "    minMaxListing = np.zeros(totalDataPoint)   \n",
      "    for i in range(totalDataPoint):\n",
      "        # searching the minimum in current array\n",
      "        jj = 0 \n",
      "        minMaxListing[i] = data[jj] # suppose the 1st element [0] of current data-list is the minimum\n",
      "        for j in range(totalDataPoint - i):\n",
      "            if data[j] < minMaxListing[i]: \n",
      "                minMaxListing[i] = data[j]\n",
      "                jj = j # recording the position of selected element\n",
      "        # reducing the size of searching zone (removing the minmum from current array)\n",
      "        data = np.delete(data, jj)\n",
      "    return (minMaxListing)\n",
      "\n",
      "'''\n",
      "author: Alvason Zhenhua Li\n",
      "date:   04/16/2015\n",
      "\n",
      "Home-made machinery for leveling a list by using min-max way\n",
      "'''\n",
      "# leveling by using min-max way\n",
      "def AlvaLevel(data, totalLevel, normalization = True):\n",
      "    totalDataPoint = np.size(data)\n",
      "    minMaxListing = AlvaMinMax(data)\n",
      "    # searching minimum and maximum values\n",
      "    minValue = minMaxListing[0]\n",
      "    maxValue = minMaxListing[-1]\n",
      "    spacingValue = np.linspace(minValue, maxValue, num = totalLevel + 1, retstep = True)        \n",
      "    gLevel = np.delete(spacingValue[0], 0)\n",
      "    # catogerizing the level set\n",
      "    # initialize the levelspace by a 'null' space\n",
      "    levelSpace = np.zeros([2])\n",
      "    numberLevel = np.zeros([totalLevel])\n",
      "    jj = 0 # counting the checked number\n",
      "    for i in range(totalLevel): \n",
      "        n = 0 # counting the number in each level\n",
      "        for j in range(jj, totalDataPoint):\n",
      "            if minMaxListing[j] <= gLevel[i]: \n",
      "                levelSpace = np.vstack((levelSpace, [i, minMaxListing[j]]))\n",
      "                n = n + 1\n",
      "        numberLevel[i] = n\n",
      "        jj = jj + n\n",
      "    # delete the inital 'null' space\n",
      "    levelSpace = np.delete(levelSpace, 0, 0) \n",
      "    if normalization == True:\n",
      "        numberLevel = numberLevel/AlvaMinMax(numberLevel)[-1]\n",
      "    return (gLevel, numberLevel, levelSpace)"
     ],
     "language": "python",
     "metadata": {},
     "outputs": []
    }
   ],
   "metadata": {}
  }
 ]
}